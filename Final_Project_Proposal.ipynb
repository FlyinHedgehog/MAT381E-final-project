{
 "cells": [
  {
   "cell_type": "markdown",
   "metadata": {},
   "source": [
    "# Analysis on Climate Change\n",
    "\n",
    "Gökçe Şahin (sahingo@itu.edu.tr, 090190306)\n",
    "\n",
    "## Datasets\n",
    "\n",
    "1. FAOSTAT (Food and Agriculture Organization of the United Nations)\n",
    "    - [Temperature Change](https://www.fao.org/faostat/en/#data/ET)\n",
    "    - [Emissions Shares](https://www.fao.org/faostat/en/#data/EM)\n",
    "    - [Emissions Intensities](https://www.fao.org/faostat/en/#data/EI)\n",
    "    - [Macro Indicators](https://www.fao.org/faostat/en/#data/MK)\n",
    "2. NASA Goddard Space Flight Center\n",
    "    - [Global Mean Sea Level](https://www.kaggle.com/datasets/kkhandekar/global-sea-level-1993-2021)"
   ]
  },
  {
   "cell_type": "markdown",
   "metadata": {},
   "source": [
    "## Hypotheses\n",
    "1. Winter temperature has more variance than summer.\n",
    "2. Developed countries are more affected by climate change.\n",
    "    - 5 most affected countries\n",
    "    - 5 least affected countries\n",
    "3. Global temperature is rising.\n",
    "4. Average temperature will be between x1 to x2 warmer in 2100 than it is today. (I'll give x1 and x2 values.)"
   ]
  },
  {
   "cell_type": "markdown",
   "metadata": {},
   "source": [
    "### Project Plan\n",
    "1. Research on climate change \n",
    "2. Determining the questions to be asked on the subject\n",
    "3. Selection of appropriate datasets and models\n",
    "4. Asking questions to the data and getting answers\n",
    "5. Visualization of the results obtained\n",
    "6. Interpretation of the result"
   ]
  },
  {
   "cell_type": "markdown",
   "metadata": {},
   "source": [
    "## Calendar\n",
    "| Date | A |\n",
    "| --- | --- |\n",
    "| x November 2022 | blabla |\n",
    "| x November 2022 | blabla |\n",
    "| x November 2022 | blabla |\n",
    "| x November 2022 | blabla |\n",
    "| x November 2022 | blabla |\n",
    "| x November 2022 | blabla |"
   ]
  },
  {
   "cell_type": "markdown",
   "metadata": {},
   "source": [
    "## Atabey's notes (You've added these notes for my previous project)\n",
    "\n",
    "It looks good for the most part. I would like to see a sample of the data and some explanations of the pieces.\n",
    "\n",
    "You have a clear set of questions and hypotheses. You also have a good understanding of which algorithms are going to help you to answer the questions you are asking.\n",
    "\n",
    "Looks good. Go ahead!\n",
    "\n"
   ]
  }
 ],
 "metadata": {
  "kernelspec": {
   "display_name": "Python 3 (ipykernel)",
   "language": "python",
   "name": "python3"
  },
  "language_info": {
   "codemirror_mode": {
    "name": "ipython",
    "version": 3
   },
   "file_extension": ".py",
   "mimetype": "text/x-python",
   "name": "python",
   "nbconvert_exporter": "python",
   "pygments_lexer": "ipython3",
   "version": "3.10.8"
  },
  "vscode": {
   "interpreter": {
    "hash": "8e8271cb67d71434d71d7359a5244618f962c24c33d897b4dd8966bfba9a1715"
   }
  }
 },
 "nbformat": 4,
 "nbformat_minor": 4
}
